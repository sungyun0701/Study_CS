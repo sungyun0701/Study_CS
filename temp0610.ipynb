{
  "nbformat": 4,
  "nbformat_minor": 0,
  "metadata": {
    "colab": {
      "name": "temp0610.ipynb",
      "provenance": [],
      "toc_visible": true,
      "authorship_tag": "ABX9TyMeKgQdrJmPNnmSJEVGJkMU",
      "include_colab_link": true
    },
    "kernelspec": {
      "name": "python3",
      "display_name": "Python 3"
    },
    "language_info": {
      "name": "python"
    }
  },
  "cells": [
    {
      "cell_type": "markdown",
      "metadata": {
        "id": "view-in-github",
        "colab_type": "text"
      },
      "source": [
        "<a href=\"https://colab.research.google.com/github/sungyun0701/study/blob/main/temp0610.ipynb\" target=\"_parent\"><img src=\"https://colab.research.google.com/assets/colab-badge.svg\" alt=\"Open In Colab\"/></a>"
      ]
    },
    {
      "cell_type": "markdown",
      "metadata": {
        "id": "QaFEDK02v62y"
      },
      "source": [
        "#Chapter1 데이터 불러오기"
      ]
    },
    {
      "cell_type": "markdown",
      "metadata": {
        "id": "Df8GmHXRwJd7"
      },
      "source": [
        "## Step 1-1 단계"
      ]
    },
    {
      "cell_type": "code",
      "metadata": {
        "colab": {
          "base_uri": "https://localhost:8080/"
        },
        "id": "kzagGJp6scha",
        "outputId": "4190df1a-220a-452b-b51b-4e37181919a8"
      },
      "source": [
        "## 구글 드라이브 마운트 // 옆에 파일에서 확인해서 경로 확인하면 됨\n",
        "\n",
        "from google.colab import drive\n",
        "drive.mount(\"/content/drive\")"
      ],
      "execution_count": 2,
      "outputs": [
        {
          "output_type": "stream",
          "text": [
            "Mounted at /content/drive\n"
          ],
          "name": "stdout"
        }
      ]
    },
    {
      "cell_type": "code",
      "metadata": {
        "colab": {
          "base_uri": "https://localhost:8080/"
        },
        "id": "Oz877-yWuWqy",
        "outputId": "009e3dc2-765d-4919-c7a6-7d3cc14fc2b0"
      },
      "source": [
        "## 데이터 불러와서 확인\n",
        "DATA_PATH = '/content/drive/MyDrive/Colab Notebooks/data/temp.csv'\n",
        "\n",
        "import pandas as pd\n",
        "temp = pd.read_csv(DATA_PATH)\n",
        "print(temp)"
      ],
      "execution_count": 3,
      "outputs": [
        {
          "output_type": "stream",
          "text": [
            "   id name  revenue\n",
            "0   1    h       21\n",
            "1   2    s       22\n",
            "2   3    y       23\n"
          ],
          "name": "stdout"
        }
      ]
    }
  ]
}